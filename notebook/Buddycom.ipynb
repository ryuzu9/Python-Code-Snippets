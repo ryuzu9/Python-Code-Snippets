{
 "cells": [
  {
   "cell_type": "code",
   "execution_count": 90,
   "metadata": {},
   "outputs": [
    {
     "name": "stdout",
     "output_type": "stream",
     "text": [
      "HTTP Status Code1 :200\n",
      "Buddycom Status Code1 :{\"status\":0}\n",
      "HTTP Status Code2 :200\n",
      "Buddycom Status Code2 :{\"status\":0}\n"
     ]
    }
   ],
   "source": [
    "#!/usr/bin/env python3\n",
    "# -*- coding: utf-8 -*-\n",
    "\n",
    "import sys\n",
    "import requests\n",
    "import urllib\n",
    "import json\n",
    "\n",
    "def main(bcServerUrl, bcUsername, bcToken):\n",
    "    url = bcServerUrl\n",
    "    \n",
    "    payload1 = {\n",
    "        'userName' : bcUsername,\n",
    "        'groupName' : 'テストグループ',\n",
    "        'language' : 1,\n",
    "         'type' : 3,\n",
    "         'text' : \"ALERT:1\"\n",
    "    }\n",
    "    payload2 = {\n",
    "        'userName' : bcUsername,\n",
    "        'groupName' : 'テストグループ',\n",
    "        'language' : 1,\n",
    "        'type' : 1,\n",
    "        'text' : 'Buddycomのテスト中。'\n",
    "\n",
    "    }    \n",
    "    headers = {\n",
    "        \"Authorization\" : \"Bearer \" + bcToken,\n",
    "        \"Content-Type\" : \"application/json\"\n",
    "    }\n",
    "    \n",
    "    response = requests.request(\"POST\", url, headers=headers, data=json.dumps(payload1))\n",
    "    print('HTTP Status Code1 :' + str(response.status_code))\n",
    "    if response.status_code == 200:\n",
    "        print('Buddycom Status Code1 :' + response.content.decode('utf-8'))\n",
    "    else:\n",
    "        print(\"Buddycom Status Code1 : failed\")\n",
    "        \n",
    "    response = requests.request(\"POST\", url, headers=headers, data=json.dumps(payload2))\n",
    "    print('HTTP Status Code2 :' + str(response.status_code))\n",
    "    if response.status_code == 200:\n",
    "        print('Buddycom Status Code2 :' + response.content.decode('utf-8'))\n",
    "    else:\n",
    "        print(\"Buddycom Status Code2 : failed\")\n",
    "\n",
    "if __name__== '__main__':\n",
    "    bcServerUrl = \"https://console.buddycom.net/v2/api/registerchatrecord\"\n",
    "    bcUsername= \"Set User Name\"\n",
    "    bcToken = \"Set Token\"\n",
    "    \n",
    "    main(bcServerUrl, bcUsername, bcToken)"
   ]
  },
  {
   "cell_type": "code",
   "execution_count": null,
   "metadata": {},
   "outputs": [],
   "source": []
  },
  {
   "cell_type": "code",
   "execution_count": null,
   "metadata": {},
   "outputs": [],
   "source": []
  },
  {
   "cell_type": "code",
   "execution_count": null,
   "metadata": {},
   "outputs": [],
   "source": []
  }
 ],
 "metadata": {
  "kernelspec": {
   "display_name": "Python 3",
   "language": "python",
   "name": "python3"
  },
  "language_info": {
   "codemirror_mode": {
    "name": "ipython",
    "version": 3
   },
   "file_extension": ".py",
   "mimetype": "text/x-python",
   "name": "python",
   "nbconvert_exporter": "python",
   "pygments_lexer": "ipython3",
   "version": "3.8.10"
  }
 },
 "nbformat": 4,
 "nbformat_minor": 4
}
